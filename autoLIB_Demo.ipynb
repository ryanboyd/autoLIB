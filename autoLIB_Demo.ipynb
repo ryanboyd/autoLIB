{
 "cells": [
  {
   "cell_type": "markdown",
   "id": "9d74c902",
   "metadata": {},
   "source": [
    "# 📘 AutoLIB Demo Notebook\n",
    "\n",
    "This notebook demonstrates how to use the `AutoLIB` Python package to detect Linguistic Intergroup Bias (LIB) in text.\n",
    "\n",
    "We will show:\n",
    "1. How to analyze an individual multi-sentence text string.\n",
    "2. How to process a full CSV file and export sentence-level and overall metrics.\n"
   ]
  },
  {
   "cell_type": "code",
   "execution_count": null,
   "id": "749ea4cf",
   "metadata": {},
   "outputs": [],
   "source": [
    "# First, we need to actually install the autoLIB-psych package\n",
    "!pip install -U autolib-psych"
   ]
  },
  {
   "cell_type": "code",
   "execution_count": null,
   "id": "899603f0-8218-4172-846b-1a495a9d510a",
   "metadata": {},
   "outputs": [],
   "source": [
    "# Import the AutoLIB class\n",
    "from autoLIB import AutoLIB"
   ]
  },
  {
   "cell_type": "code",
   "execution_count": null,
   "id": "b651657e",
   "metadata": {},
   "outputs": [],
   "source": [
    "# Initialize the analyzer\n",
    "# You can choose 'stanza' (default) or 'vader'\n",
    "analyzer = AutoLIB(sentiment_method='stanza')"
   ]
  },
  {
   "cell_type": "code",
   "execution_count": null,
   "id": "0b48ae59",
   "metadata": {},
   "outputs": [],
   "source": [
    "# 📝 Define your keyword list\n",
    "keywords = ['protest', 'protesters', 'pipeline', 'demonstration']"
   ]
  },
  {
   "cell_type": "code",
   "execution_count": null,
   "id": "d25b6551",
   "metadata": {},
   "outputs": [],
   "source": [
    "# 🧪 Analyze a multi-sentence string\n",
    "text = \"\"\"The protesters marched peacefully through the downtown core.\n",
    "Later that day, some individuals vandalized construction equipment at the pipeline site.\n",
    "Supporters of the movement praised the peaceful demonstration, while opponents criticized the disruption.\"\"\"\n",
    "\n",
    "result = analyzer.analyze(text, keywords)"
   ]
  },
  {
   "cell_type": "code",
   "execution_count": null,
   "id": "9434ce4b",
   "metadata": {},
   "outputs": [],
   "source": [
    "# 📊 View overall metrics\n",
    "print(\"=== Overall Metrics ===\")\n",
    "print(result[\"overall\"])"
   ]
  },
  {
   "cell_type": "code",
   "execution_count": null,
   "id": "82c2370b",
   "metadata": {},
   "outputs": [],
   "source": [
    "# 📄 View sentence-level results\n",
    "print(\"\\n=== Sentence-Level Results ===\")\n",
    "for s in result[\"sentences\"]:\n",
    "    print(s)"
   ]
  },
  {
   "cell_type": "code",
   "execution_count": null,
   "id": "aa6816ea",
   "metadata": {},
   "outputs": [],
   "source": [
    "# 📂 Process a CSV file with AutoLIB\n",
    "# Make sure 'demo_data/sample_articles.csv' exists and has columns 'ID' and 'Text'\n",
    "AutoLIB.process_csv(\n",
    "    analyzer=analyzer,\n",
    "    input_csv='demo_data/sample_articles.csv',\n",
    "    file_encoding='utf-8-sig',\n",
    "    row_id_col='ID',\n",
    "    text_col='Text',\n",
    "    keywords=keywords,\n",
    "    output_dir='autoLIB_output'\n",
    ")"
   ]
  }
 ],
 "metadata": {
  "kernelspec": {
   "display_name": "Python 3 (ipykernel)",
   "language": "python",
   "name": "python3"
  },
  "language_info": {
   "codemirror_mode": {
    "name": "ipython",
    "version": 3
   },
   "file_extension": ".py",
   "mimetype": "text/x-python",
   "name": "python",
   "nbconvert_exporter": "python",
   "pygments_lexer": "ipython3",
   "version": "3.12.5"
  }
 },
 "nbformat": 4,
 "nbformat_minor": 5
}
