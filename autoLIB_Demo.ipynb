{
 "cells": [
  {
   "cell_type": "markdown",
   "id": "9d74c902",
   "metadata": {},
   "source": [
    "# 📘 AutoLIB Demo Notebook\n",
    "\n",
    "This notebook demonstrates how to use the `AutoLIB` Python package to detect Linguistic Intergroup Bias (LIB) in text.\n",
    "\n",
    "We will show:\n",
    "1. How to analyze an individual multi-sentence text string.\n",
    "2. How to process a full CSV file and export sentence-level and overall metrics.\n"
   ]
  },
  {
   "cell_type": "code",
   "execution_count": 1,
   "id": "749ea4cf",
   "metadata": {},
   "outputs": [],
   "source": [
    "# First, we need to actually install the autoLIB-psych package\n",
    "!pip install -U autolib-psych -qq"
   ]
  },
  {
   "cell_type": "code",
   "execution_count": 2,
   "id": "899603f0-8218-4172-846b-1a495a9d510a",
   "metadata": {},
   "outputs": [],
   "source": [
    "# Import the AutoLIB class\n",
    "from autoLIB.autoLIB import AutoLIB"
   ]
  },
  {
   "cell_type": "code",
   "execution_count": 3,
   "id": "b651657e",
   "metadata": {},
   "outputs": [],
   "source": [
    "# Initialize the analyzer\n",
    "# You can choose 'stanza' (default) or 'vader'\n",
    "analyzer = AutoLIB(sentiment_method='stanza')"
   ]
  },
  {
   "cell_type": "code",
   "execution_count": 4,
   "id": "0b48ae59",
   "metadata": {},
   "outputs": [],
   "source": [
    "# Define your keyword list\n",
    "keywords = ['protest', 'protesters', 'pipeline', 'demonstration']"
   ]
  },
  {
   "cell_type": "code",
   "execution_count": 5,
   "id": "d25b6551",
   "metadata": {},
   "outputs": [],
   "source": [
    "# Analyze a multi-sentence string\n",
    "text = \"\"\"The protesters marched peacefully through the downtown core.\n",
    "Later that day, some individuals vandalized construction equipment at the pipeline site.\n",
    "Supporters of the movement praised the peaceful demonstration, while opponents criticized the disruption.\"\"\"\n",
    "\n",
    "result = analyzer.analyze(text, keywords)"
   ]
  },
  {
   "cell_type": "code",
   "execution_count": 6,
   "id": "9434ce4b",
   "metadata": {},
   "outputs": [
    {
     "name": "stdout",
     "output_type": "stream",
     "text": [
      "=== Overall Metrics ===\n",
      "{'bias_index': -5.0, 'total_sentences': 3, 'total_relevant_sentences': 3, 'positive_relevant_sentences': 0, 'negative_relevant_sentences': 1, 'neutral_relevant_sentences': 2, 'overall_word_count': 38, 'average_relevant_sentence_abstraction': 4.416666666666667}\n"
     ]
    }
   ],
   "source": [
    "# View overall metrics\n",
    "print(\"=== Overall Metrics ===\")\n",
    "print(result[\"overall\"])"
   ]
  },
  {
   "cell_type": "code",
   "execution_count": 7,
   "id": "82c2370b",
   "metadata": {},
   "outputs": [
    {
     "name": "stdout",
     "output_type": "stream",
     "text": [
      "\n",
      "=== Sentence-Level Results ===\n",
      "{'sentence': 'The protesters marched peacefully through the downtown core.', 'valence': 'neutral', 'sentiment_score': 0.0, 'abstraction': 4.0}\n",
      "{'sentence': 'Later that day, some individuals vandalized construction equipment at the pipeline site.', 'valence': 'negative', 'sentiment_score': -0.6, 'abstraction': 5.0}\n",
      "{'sentence': 'Supporters of the movement praised the peaceful demonstration, while opponents criticized the disruption.', 'valence': 'neutral', 'sentiment_score': 0.0, 'abstraction': 4.25}\n"
     ]
    }
   ],
   "source": [
    "# View sentence-level results\n",
    "print(\"\\n=== Sentence-Level Results ===\")\n",
    "for s in result[\"sentences\"]:\n",
    "    print(s)"
   ]
  },
  {
   "cell_type": "code",
   "execution_count": 8,
   "id": "aa6816ea",
   "metadata": {},
   "outputs": [
    {
     "name": "stdout",
     "output_type": "stream",
     "text": [
      "\n",
      "Processing input file: testdata/thisibelieve_subsample500.csv\n"
     ]
    },
    {
     "name": "stderr",
     "output_type": "stream",
     "text": [
      "Analyzing dataset: 500it [01:44,  4.77it/s]"
     ]
    },
    {
     "name": "stdout",
     "output_type": "stream",
     "text": [
      "Finished processing: testdata/thisibelieve_subsample500.csv\n",
      "Output stored in: autoLIB_output\n"
     ]
    },
    {
     "name": "stderr",
     "output_type": "stream",
     "text": [
      "\n"
     ]
    }
   ],
   "source": [
    "# Process a CSV file with AutoLIB\n",
    "# Make sure to updated the \"row_id_col\" and \"text_col\" to fit your dataset\n",
    "\n",
    "# Let's also update our keywords. How about parents?\n",
    "keywords = [\"father\", \"mother\"]\n",
    "\n",
    "AutoLIB.process_csv(\n",
    "    analyzer=analyzer,\n",
    "    input_csv='testdata/thisibelieve_subsample500.csv',\n",
    "    file_encoding='utf-8-sig',\n",
    "    row_id_col='ID',\n",
    "    text_col='Essay',\n",
    "    keywords=keywords,\n",
    "    output_dir='autoLIB_output'\n",
    ")"
   ]
  },
  {
   "cell_type": "code",
   "execution_count": null,
   "id": "6c68768c-2995-46af-8b62-3d585e04f8b3",
   "metadata": {},
   "outputs": [],
   "source": []
  }
 ],
 "metadata": {
  "kernelspec": {
   "display_name": "Python 3 (ipykernel)",
   "language": "python",
   "name": "python3"
  },
  "language_info": {
   "codemirror_mode": {
    "name": "ipython",
    "version": 3
   },
   "file_extension": ".py",
   "mimetype": "text/x-python",
   "name": "python",
   "nbconvert_exporter": "python",
   "pygments_lexer": "ipython3",
   "version": "3.12.5"
  }
 },
 "nbformat": 4,
 "nbformat_minor": 5
}
